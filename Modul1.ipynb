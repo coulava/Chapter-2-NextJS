{
  "nbformat": 4,
  "nbformat_minor": 0,
  "metadata": {
    "colab": {
      "provenance": [],
      "authorship_tag": "ABX9TyPlzTH33dVOC1x/pP8BPDIk",
      "include_colab_link": true
    },
    "kernelspec": {
      "name": "python3",
      "display_name": "Python 3"
    },
    "language_info": {
      "name": "python"
    }
  },
  "cells": [
    {
      "cell_type": "markdown",
      "metadata": {
        "id": "view-in-github",
        "colab_type": "text"
      },
      "source": [
        "<a href=\"https://colab.research.google.com/github/coulava/Chapter-2-NextJS/blob/main/Modul1.ipynb\" target=\"_parent\"><img src=\"https://colab.research.google.com/assets/colab-badge.svg\" alt=\"Open In Colab\"/></a>"
      ]
    },
    {
      "cell_type": "code",
      "execution_count": null,
      "metadata": {
        "colab": {
          "base_uri": "https://localhost:8080/"
        },
        "id": "mFfHiDFA2jlX",
        "outputId": "3751760c-f27f-47ac-bb40-883ad5508d84"
      },
      "outputs": [
        {
          "output_type": "stream",
          "name": "stdout",
          "text": [
            "3\n"
          ]
        },
        {
          "output_type": "execute_result",
          "data": {
            "text/plain": [
              "int"
            ]
          },
          "metadata": {},
          "execution_count": 1
        }
      ],
      "source": [
        "a=3\n",
        "print(a)\n",
        "type(a)"
      ]
    },
    {
      "cell_type": "code",
      "source": [
        "a=3\n",
        "b= 4+a\n",
        "b\n",
        "print(b)"
      ],
      "metadata": {
        "colab": {
          "base_uri": "https://localhost:8080/"
        },
        "id": "kZh5rA_P3EBf",
        "outputId": "f3893df3-17b3-423b-9bee-2b421f427bad"
      },
      "execution_count": null,
      "outputs": [
        {
          "output_type": "stream",
          "name": "stdout",
          "text": [
            "7\n"
          ]
        }
      ]
    },
    {
      "cell_type": "code",
      "source": [
        "angka=[1,2,3,4,5,6]\n",
        "type(angka)\n",
        "angka(6)"
      ],
      "metadata": {
        "colab": {
          "base_uri": "https://localhost:8080/",
          "height": 176
        },
        "id": "mVX758Y_3RzA",
        "outputId": "21e0364a-d61e-466c-83b0-a9a23dbb1c9b"
      },
      "execution_count": null,
      "outputs": [
        {
          "output_type": "error",
          "ename": "TypeError",
          "evalue": "'list' object is not callable",
          "traceback": [
            "\u001b[0;31m---------------------------------------------------------------------------\u001b[0m",
            "\u001b[0;31mTypeError\u001b[0m                                 Traceback (most recent call last)",
            "\u001b[0;32m/tmp/ipython-input-2851890203.py\u001b[0m in \u001b[0;36m<cell line: 0>\u001b[0;34m()\u001b[0m\n\u001b[1;32m      1\u001b[0m \u001b[0mangka\u001b[0m\u001b[0;34m=\u001b[0m\u001b[0;34m[\u001b[0m\u001b[0;36m1\u001b[0m\u001b[0;34m,\u001b[0m\u001b[0;36m2\u001b[0m\u001b[0;34m,\u001b[0m\u001b[0;36m3\u001b[0m\u001b[0;34m,\u001b[0m\u001b[0;36m4\u001b[0m\u001b[0;34m,\u001b[0m\u001b[0;36m5\u001b[0m\u001b[0;34m,\u001b[0m\u001b[0;36m6\u001b[0m\u001b[0;34m]\u001b[0m\u001b[0;34m\u001b[0m\u001b[0;34m\u001b[0m\u001b[0m\n\u001b[1;32m      2\u001b[0m \u001b[0mtype\u001b[0m\u001b[0;34m(\u001b[0m\u001b[0mangka\u001b[0m\u001b[0;34m)\u001b[0m\u001b[0;34m\u001b[0m\u001b[0;34m\u001b[0m\u001b[0m\n\u001b[0;32m----> 3\u001b[0;31m \u001b[0mangka\u001b[0m\u001b[0;34m(\u001b[0m\u001b[0;36m6\u001b[0m\u001b[0;34m)\u001b[0m\u001b[0;34m\u001b[0m\u001b[0;34m\u001b[0m\u001b[0m\n\u001b[0m",
            "\u001b[0;31mTypeError\u001b[0m: 'list' object is not callable"
          ]
        }
      ]
    },
    {
      "cell_type": "code",
      "source": [
        "angka[1,2,3,4,5,6]\n",
        "type(angka)\n",
        "angka[4]\n",
        "nama=[\"Ade\", \"Aira\", \"Budi\",\"Bagus\"]\n",
        "ptint(nama[3])\n",
        "print(nama)\n",
        "ptint(angka)"
      ],
      "metadata": {
        "colab": {
          "base_uri": "https://localhost:8080/",
          "height": 211
        },
        "id": "I7FGo1nh3spj",
        "outputId": "fd70cea1-3dc3-4b99-9074-f8a458d38562"
      },
      "execution_count": null,
      "outputs": [
        {
          "output_type": "error",
          "ename": "TypeError",
          "evalue": "list indices must be integers or slices, not tuple",
          "traceback": [
            "\u001b[0;31m---------------------------------------------------------------------------\u001b[0m",
            "\u001b[0;31mTypeError\u001b[0m                                 Traceback (most recent call last)",
            "\u001b[0;32m/tmp/ipython-input-1444040451.py\u001b[0m in \u001b[0;36m<cell line: 0>\u001b[0;34m()\u001b[0m\n\u001b[0;32m----> 1\u001b[0;31m \u001b[0mangka\u001b[0m\u001b[0;34m[\u001b[0m\u001b[0;36m1\u001b[0m\u001b[0;34m,\u001b[0m\u001b[0;36m2\u001b[0m\u001b[0;34m,\u001b[0m\u001b[0;36m3\u001b[0m\u001b[0;34m,\u001b[0m\u001b[0;36m4\u001b[0m\u001b[0;34m,\u001b[0m\u001b[0;36m5\u001b[0m\u001b[0;34m,\u001b[0m\u001b[0;36m6\u001b[0m\u001b[0;34m]\u001b[0m\u001b[0;34m\u001b[0m\u001b[0;34m\u001b[0m\u001b[0m\n\u001b[0m\u001b[1;32m      2\u001b[0m \u001b[0mtype\u001b[0m\u001b[0;34m(\u001b[0m\u001b[0mangka\u001b[0m\u001b[0;34m)\u001b[0m\u001b[0;34m\u001b[0m\u001b[0;34m\u001b[0m\u001b[0m\n\u001b[1;32m      3\u001b[0m \u001b[0mangka\u001b[0m\u001b[0;34m[\u001b[0m\u001b[0;36m4\u001b[0m\u001b[0;34m]\u001b[0m\u001b[0;34m\u001b[0m\u001b[0;34m\u001b[0m\u001b[0m\n\u001b[1;32m      4\u001b[0m \u001b[0mnama\u001b[0m\u001b[0;34m=\u001b[0m\u001b[0;34m[\u001b[0m\u001b[0;34m\"Ade\"\u001b[0m\u001b[0;34m,\u001b[0m \u001b[0;34m\"Aira\"\u001b[0m\u001b[0;34m,\u001b[0m \u001b[0;34m\"Budi\"\u001b[0m\u001b[0;34m,\u001b[0m\u001b[0;34m\"Bagus\"\u001b[0m\u001b[0;34m]\u001b[0m\u001b[0;34m\u001b[0m\u001b[0;34m\u001b[0m\u001b[0m\n\u001b[1;32m      5\u001b[0m \u001b[0mptint\u001b[0m\u001b[0;34m(\u001b[0m\u001b[0mnama\u001b[0m\u001b[0;34m[\u001b[0m\u001b[0;36m3\u001b[0m\u001b[0;34m]\u001b[0m\u001b[0;34m)\u001b[0m\u001b[0;34m\u001b[0m\u001b[0;34m\u001b[0m\u001b[0m\n",
            "\u001b[0;31mTypeError\u001b[0m: list indices must be integers or slices, not tuple"
          ]
        }
      ]
    },
    {
      "cell_type": "code",
      "source": [
        "angka=[1,2,3,4,5,6]\n",
        "type(angka)\n",
        "angka[4]\n",
        "nama=[\"Ade\", \"Aira\", \"Budi\",\"Bagus\"]\n",
        "print(nama[3])\n",
        "print(nama)\n",
        "print(angka)\n"
      ],
      "metadata": {
        "colab": {
          "base_uri": "https://localhost:8080/"
        },
        "id": "waYgAyfZ4PF-",
        "outputId": "070c46d8-a9ac-4617-ee61-7ab69e44cf17"
      },
      "execution_count": null,
      "outputs": [
        {
          "output_type": "stream",
          "name": "stdout",
          "text": [
            "Bagus\n",
            "['Ade', 'Aira', 'Budi', 'Bagus']\n",
            "[1, 2, 3, 4, 5, 6]\n"
          ]
        }
      ]
    },
    {
      "cell_type": "code",
      "source": [
        "Belanjaan={\"Mangga\":8000,\"Apel\":7000,\n",
        "           \"Semangka\":10000,\"Jeruk\":12000}\n",
        "print(\"Daftar Belanja\")\n",
        "Belanjaan"
      ],
      "metadata": {
        "colab": {
          "base_uri": "https://localhost:8080/"
        },
        "id": "AaFdPtVf8CUH",
        "outputId": "0024d070-fc51-474c-ccaa-6c24f54b527e"
      },
      "execution_count": null,
      "outputs": [
        {
          "output_type": "stream",
          "name": "stdout",
          "text": [
            "Daftar Belanja\n"
          ]
        },
        {
          "output_type": "execute_result",
          "data": {
            "text/plain": [
              "{'Mangga': 8000, 'Apel': 7000, 'Semangka': 10000, 'Jeruk': 12000}"
            ]
          },
          "metadata": {},
          "execution_count": 7
        }
      ]
    },
    {
      "cell_type": "code",
      "source": [
        "a=10\n",
        "b=3.14\n",
        "c=\"Halo nama ku ody\"\n",
        "d=[1,2,3,4,5]\n",
        "\n",
        "print(a)\n",
        "type(a)\n",
        "\n",
        "print(b)\n",
        "type(b)\n",
        "\n",
        "print(c)\n",
        "type(c)\n",
        "\n",
        "print(d)\n",
        "type(d)"
      ],
      "metadata": {
        "colab": {
          "base_uri": "https://localhost:8080/"
        },
        "id": "uKideTAFeohb",
        "outputId": "b8c2a573-b917-4600-dcaa-387da33cfa15"
      },
      "execution_count": null,
      "outputs": [
        {
          "output_type": "stream",
          "name": "stdout",
          "text": [
            "10\n",
            "3.14\n",
            "Halo nama ku ody\n",
            "[1, 2, 3, 4, 5]\n"
          ]
        },
        {
          "output_type": "execute_result",
          "data": {
            "text/plain": [
              "list"
            ]
          },
          "metadata": {},
          "execution_count": 3
        }
      ]
    },
    {
      "cell_type": "code",
      "source": [
        "a = 10\n",
        "b = 3.14\n",
        "c = \"Halo nama ku ody\"\n",
        "d = [1, 2, 3, 4, 5]\n",
        "\n",
        "print(a, \"=\", type(a))\n",
        "print(b, \"=\", type(b))\n",
        "print(c, \"=\", type(c))\n",
        "print(d, \"=\", type(d))"
      ],
      "metadata": {
        "colab": {
          "base_uri": "https://localhost:8080/"
        },
        "id": "AVa8IfeUf4_h",
        "outputId": "bd44bf16-850e-466f-b251-d8bcfb3e8ff0"
      },
      "execution_count": null,
      "outputs": [
        {
          "output_type": "stream",
          "name": "stdout",
          "text": [
            "10 = <class 'int'>\n",
            "3.14 = <class 'float'>\n",
            "Halo nama ku ody = <class 'str'>\n",
            "[1, 2, 3, 4, 5] = <class 'list'>\n"
          ]
        }
      ]
    },
    {
      "cell_type": "code",
      "source": [
        "list_belanja = [\"beras\", \"minyak\", \"telur\"]\n",
        "print (list_belanja)\n"
      ],
      "metadata": {
        "colab": {
          "base_uri": "https://localhost:8080/"
        },
        "id": "9DMMZFUggTBg",
        "outputId": "820765f5-04e2-4277-8800-e6ca69dcd328"
      },
      "execution_count": null,
      "outputs": [
        {
          "output_type": "stream",
          "name": "stdout",
          "text": [
            "['beras', 'minyak', 'telur']\n"
          ]
        }
      ]
    },
    {
      "cell_type": "code",
      "source": [
        "list_belanja = [\"beras\", \"minyak\", \"telur\"]\n",
        "list_belanja.append(\"gula\")\n",
        "list_belanja.append(\"kopi\")\n",
        "print(list_belanja)"
      ],
      "metadata": {
        "colab": {
          "base_uri": "https://localhost:8080/"
        },
        "id": "TjkSHQgDjqsh",
        "outputId": "677819a5-773d-412f-807c-bf7044fbfa10"
      },
      "execution_count": null,
      "outputs": [
        {
          "output_type": "stream",
          "name": "stdout",
          "text": [
            "['beras', 'minyak', 'telur', 'gula', 'kopi']\n"
          ]
        }
      ]
    },
    {
      "cell_type": "code",
      "source": [
        "harga_belanjaan = {\n",
        "    'beras': 12000,\n",
        "    'minyak': 17000,\n",
        "    'telur': 24000,\n",
        "    'gula': 15000,\n",
        "    'kopi': 20000,\n",
        "}\n",
        "\n",
        "barang_belanjaan = ['minyak', 'beras', 'telur', 'gula', 'kopi']\n",
        "\n",
        "\n",
        "list_harga = [harga_belanjaan[x] for x in barang_belanjaan]\n",
        "print(\"List harga:\", list_harga)\n",
        "\n",
        "#total\n",
        "total_harga = sum(list_harga)\n",
        "print(\"Total belanja:\", total_harga)"
      ],
      "metadata": {
        "colab": {
          "base_uri": "https://localhost:8080/"
        },
        "id": "cAF29NyKkFds",
        "outputId": "b9ee285d-1caf-46b3-88ac-1d445683eb06"
      },
      "execution_count": null,
      "outputs": [
        {
          "output_type": "stream",
          "name": "stdout",
          "text": [
            "List harga: [17000, 12000, 24000, 15000, 20000]\n",
            "Total belanja: 88000\n"
          ]
        }
      ]
    },
    {
      "cell_type": "code",
      "source": [
        "import math\n",
        "\n",
        "def hitung_lingkaran(r):\n",
        "    luas = math.pi * r * r\n",
        "    keliling = 2 * math.pi * r\n",
        "    return luas, keliling\n",
        "\n",
        "#pemanggilan fungsi\n",
        "jari_jari = 7\n",
        "luas, keliling = hitung_lingkaran(jari_jari)\n",
        "print(f\"Luas lingkaran (r={jari_jari}): {luas:.2f}\")\n",
        "print(f\"Keliling lingkaran (r={jari_jari}): {keliling:.2f}\")\n"
      ],
      "metadata": {
        "colab": {
          "base_uri": "https://localhost:8080/"
        },
        "id": "VKplYf0CmjJf",
        "outputId": "766ffe15-470d-4c34-83bb-4bbb9d456ef5"
      },
      "execution_count": null,
      "outputs": [
        {
          "output_type": "stream",
          "name": "stdout",
          "text": [
            "Luas lingkaran (r=7): 153.94\n",
            "Keliling lingkaran (r=7): 43.98\n"
          ]
        }
      ]
    },
    {
      "cell_type": "code",
      "source": [
        "usia = int(input(\"Masukkan usia: \"))\n",
        "\n",
        "if 0 <= usia <= 13:\n",
        "    print(\"Kategori: Anak\")\n",
        "elif 14 <= usia <= 24:\n",
        "    print(\"Kategori: Remaja\")\n",
        "elif 25 <= usia <= 49:\n",
        "    print(\"Kategori: Dewasa\")\n",
        "elif usia >= 50:\n",
        "    print(\"Kategori: Lansia\")\n",
        "else:\n",
        "    print(\"Usia tidak valid!\")"
      ],
      "metadata": {
        "colab": {
          "base_uri": "https://localhost:8080/"
        },
        "id": "406RQ5sGm7GX",
        "outputId": "3872e524-19ca-4424-c83a-ff00bd1b5ccc"
      },
      "execution_count": null,
      "outputs": [
        {
          "output_type": "stream",
          "name": "stdout",
          "text": [
            "Masukkan usia: 12\n",
            "Kategori: Anak\n"
          ]
        }
      ]
    }
  ]
}